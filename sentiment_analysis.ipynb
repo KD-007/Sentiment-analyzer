{
 "cells": [
  {
   "cell_type": "code",
   "execution_count": 1,
   "metadata": {},
   "outputs": [],
   "source": [
    "import pandas as pd\n",
    "import numpy as np"
   ]
  },
  {
   "cell_type": "code",
   "execution_count": 2,
   "metadata": {},
   "outputs": [
    {
     "data": {
      "text/html": [
       "<div>\n",
       "<style scoped>\n",
       "    .dataframe tbody tr th:only-of-type {\n",
       "        vertical-align: middle;\n",
       "    }\n",
       "\n",
       "    .dataframe tbody tr th {\n",
       "        vertical-align: top;\n",
       "    }\n",
       "\n",
       "    .dataframe thead th {\n",
       "        text-align: right;\n",
       "    }\n",
       "</style>\n",
       "<table border=\"1\" class=\"dataframe\">\n",
       "  <thead>\n",
       "    <tr style=\"text-align: right;\">\n",
       "      <th></th>\n",
       "      <th>4</th>\n",
       "      <th>Nice 🤳📱📱</th>\n",
       "    </tr>\n",
       "  </thead>\n",
       "  <tbody>\n",
       "    <tr>\n",
       "      <th>0</th>\n",
       "      <td>4</td>\n",
       "      <td>Super but camera bad 😞</td>\n",
       "    </tr>\n",
       "    <tr>\n",
       "      <th>1</th>\n",
       "      <td>3</td>\n",
       "      <td>Camera quality not ok</td>\n",
       "    </tr>\n",
       "    <tr>\n",
       "      <th>2</th>\n",
       "      <td>5</td>\n",
       "      <td>Camera 📸🤳 👍 good Battery 🔋 1.5 dayProcessor Go...</td>\n",
       "    </tr>\n",
       "    <tr>\n",
       "      <th>3</th>\n",
       "      <td>5</td>\n",
       "      <td>I love it mobile phone Good product</td>\n",
       "    </tr>\n",
       "    <tr>\n",
       "      <th>4</th>\n",
       "      <td>5</td>\n",
       "      <td>Good Mobile thanks Flipkart</td>\n",
       "    </tr>\n",
       "    <tr>\n",
       "      <th>...</th>\n",
       "      <td>...</td>\n",
       "      <td>...</td>\n",
       "    </tr>\n",
       "    <tr>\n",
       "      <th>46493</th>\n",
       "      <td>4</td>\n",
       "      <td>Good quality</td>\n",
       "    </tr>\n",
       "    <tr>\n",
       "      <th>46494</th>\n",
       "      <td>4</td>\n",
       "      <td>Great</td>\n",
       "    </tr>\n",
       "    <tr>\n",
       "      <th>46495</th>\n",
       "      <td>4</td>\n",
       "      <td>Thank u flipkart. The item is done with fabulo...</td>\n",
       "    </tr>\n",
       "    <tr>\n",
       "      <th>46496</th>\n",
       "      <td>4</td>\n",
       "      <td>Awesome</td>\n",
       "    </tr>\n",
       "    <tr>\n",
       "      <th>46497</th>\n",
       "      <td>4</td>\n",
       "      <td>Excellent for its price and size. Comes with a...</td>\n",
       "    </tr>\n",
       "  </tbody>\n",
       "</table>\n",
       "<p>46498 rows × 2 columns</p>\n",
       "</div>"
      ],
      "text/plain": [
       "       4                                           Nice 🤳📱📱\n",
       "0      4                             Super but camera bad 😞\n",
       "1      3                              Camera quality not ok\n",
       "2      5  Camera 📸🤳 👍 good Battery 🔋 1.5 dayProcessor Go...\n",
       "3      5                I love it mobile phone Good product\n",
       "4      5                        Good Mobile thanks Flipkart\n",
       "...   ..                                                ...\n",
       "46493  4                                       Good quality\n",
       "46494  4                                              Great\n",
       "46495  4  Thank u flipkart. The item is done with fabulo...\n",
       "46496  4                                            Awesome\n",
       "46497  4  Excellent for its price and size. Comes with a...\n",
       "\n",
       "[46498 rows x 2 columns]"
      ]
     },
     "execution_count": 2,
     "metadata": {},
     "output_type": "execute_result"
    }
   ],
   "source": [
    "df = pd.read_csv(\"./scraping/flipkart_reviews.csv\")\n",
    "df"
   ]
  },
  {
   "cell_type": "code",
   "execution_count": 3,
   "metadata": {},
   "outputs": [],
   "source": [
    "df.columns = ['rating' , 'review']"
   ]
  },
  {
   "cell_type": "code",
   "execution_count": 4,
   "metadata": {},
   "outputs": [
    {
     "data": {
      "text/html": [
       "<div>\n",
       "<style scoped>\n",
       "    .dataframe tbody tr th:only-of-type {\n",
       "        vertical-align: middle;\n",
       "    }\n",
       "\n",
       "    .dataframe tbody tr th {\n",
       "        vertical-align: top;\n",
       "    }\n",
       "\n",
       "    .dataframe thead th {\n",
       "        text-align: right;\n",
       "    }\n",
       "</style>\n",
       "<table border=\"1\" class=\"dataframe\">\n",
       "  <thead>\n",
       "    <tr style=\"text-align: right;\">\n",
       "      <th></th>\n",
       "      <th>rating</th>\n",
       "      <th>review</th>\n",
       "    </tr>\n",
       "  </thead>\n",
       "  <tbody>\n",
       "    <tr>\n",
       "      <th>0</th>\n",
       "      <td>4</td>\n",
       "      <td>Super but camera bad 😞</td>\n",
       "    </tr>\n",
       "    <tr>\n",
       "      <th>1</th>\n",
       "      <td>3</td>\n",
       "      <td>Camera quality not ok</td>\n",
       "    </tr>\n",
       "    <tr>\n",
       "      <th>2</th>\n",
       "      <td>5</td>\n",
       "      <td>Camera 📸🤳 👍 good Battery 🔋 1.5 dayProcessor Go...</td>\n",
       "    </tr>\n",
       "    <tr>\n",
       "      <th>3</th>\n",
       "      <td>5</td>\n",
       "      <td>I love it mobile phone Good product</td>\n",
       "    </tr>\n",
       "    <tr>\n",
       "      <th>4</th>\n",
       "      <td>5</td>\n",
       "      <td>Good Mobile thanks Flipkart</td>\n",
       "    </tr>\n",
       "    <tr>\n",
       "      <th>...</th>\n",
       "      <td>...</td>\n",
       "      <td>...</td>\n",
       "    </tr>\n",
       "    <tr>\n",
       "      <th>46493</th>\n",
       "      <td>4</td>\n",
       "      <td>Good quality</td>\n",
       "    </tr>\n",
       "    <tr>\n",
       "      <th>46494</th>\n",
       "      <td>4</td>\n",
       "      <td>Great</td>\n",
       "    </tr>\n",
       "    <tr>\n",
       "      <th>46495</th>\n",
       "      <td>4</td>\n",
       "      <td>Thank u flipkart. The item is done with fabulo...</td>\n",
       "    </tr>\n",
       "    <tr>\n",
       "      <th>46496</th>\n",
       "      <td>4</td>\n",
       "      <td>Awesome</td>\n",
       "    </tr>\n",
       "    <tr>\n",
       "      <th>46497</th>\n",
       "      <td>4</td>\n",
       "      <td>Excellent for its price and size. Comes with a...</td>\n",
       "    </tr>\n",
       "  </tbody>\n",
       "</table>\n",
       "<p>46498 rows × 2 columns</p>\n",
       "</div>"
      ],
      "text/plain": [
       "       rating                                             review\n",
       "0           4                             Super but camera bad 😞\n",
       "1           3                              Camera quality not ok\n",
       "2           5  Camera 📸🤳 👍 good Battery 🔋 1.5 dayProcessor Go...\n",
       "3           5                I love it mobile phone Good product\n",
       "4           5                        Good Mobile thanks Flipkart\n",
       "...       ...                                                ...\n",
       "46493       4                                       Good quality\n",
       "46494       4                                              Great\n",
       "46495       4  Thank u flipkart. The item is done with fabulo...\n",
       "46496       4                                            Awesome\n",
       "46497       4  Excellent for its price and size. Comes with a...\n",
       "\n",
       "[46498 rows x 2 columns]"
      ]
     },
     "execution_count": 4,
     "metadata": {},
     "output_type": "execute_result"
    }
   ],
   "source": [
    "df"
   ]
  },
  {
   "cell_type": "code",
   "execution_count": 5,
   "metadata": {},
   "outputs": [
    {
     "data": {
      "text/plain": [
       "rating    0\n",
       "review    0\n",
       "dtype: int64"
      ]
     },
     "execution_count": 5,
     "metadata": {},
     "output_type": "execute_result"
    }
   ],
   "source": [
    "df.isnull().sum()"
   ]
  },
  {
   "cell_type": "code",
   "execution_count": 6,
   "metadata": {},
   "outputs": [
    {
     "data": {
      "text/plain": [
       "1    18190\n",
       "5    16522\n",
       "4     6851\n",
       "3     3193\n",
       "2     1742\n",
       "Name: rating, dtype: int64"
      ]
     },
     "execution_count": 6,
     "metadata": {},
     "output_type": "execute_result"
    }
   ],
   "source": [
    "df.rating.value_counts()"
   ]
  },
  {
   "cell_type": "code",
   "execution_count": 7,
   "metadata": {},
   "outputs": [
    {
     "data": {
      "text/html": [
       "<div>\n",
       "<style scoped>\n",
       "    .dataframe tbody tr th:only-of-type {\n",
       "        vertical-align: middle;\n",
       "    }\n",
       "\n",
       "    .dataframe tbody tr th {\n",
       "        vertical-align: top;\n",
       "    }\n",
       "\n",
       "    .dataframe thead th {\n",
       "        text-align: right;\n",
       "    }\n",
       "</style>\n",
       "<table border=\"1\" class=\"dataframe\">\n",
       "  <thead>\n",
       "    <tr style=\"text-align: right;\">\n",
       "      <th></th>\n",
       "      <th>rating</th>\n",
       "      <th>review</th>\n",
       "    </tr>\n",
       "  </thead>\n",
       "  <tbody>\n",
       "    <tr>\n",
       "      <th>13</th>\n",
       "      <td>4</td>\n",
       "      <td>Good</td>\n",
       "    </tr>\n",
       "    <tr>\n",
       "      <th>69</th>\n",
       "      <td>5</td>\n",
       "      <td>Very good</td>\n",
       "    </tr>\n",
       "    <tr>\n",
       "      <th>70</th>\n",
       "      <td>5</td>\n",
       "      <td>Good</td>\n",
       "    </tr>\n",
       "    <tr>\n",
       "      <th>72</th>\n",
       "      <td>4</td>\n",
       "      <td>Nice</td>\n",
       "    </tr>\n",
       "    <tr>\n",
       "      <th>101</th>\n",
       "      <td>5</td>\n",
       "      <td>Super</td>\n",
       "    </tr>\n",
       "    <tr>\n",
       "      <th>...</th>\n",
       "      <td>...</td>\n",
       "      <td>...</td>\n",
       "    </tr>\n",
       "    <tr>\n",
       "      <th>46490</th>\n",
       "      <td>4</td>\n",
       "      <td>Good</td>\n",
       "    </tr>\n",
       "    <tr>\n",
       "      <th>46492</th>\n",
       "      <td>4</td>\n",
       "      <td>nice</td>\n",
       "    </tr>\n",
       "    <tr>\n",
       "      <th>46493</th>\n",
       "      <td>4</td>\n",
       "      <td>Good quality</td>\n",
       "    </tr>\n",
       "    <tr>\n",
       "      <th>46494</th>\n",
       "      <td>4</td>\n",
       "      <td>Great</td>\n",
       "    </tr>\n",
       "    <tr>\n",
       "      <th>46496</th>\n",
       "      <td>4</td>\n",
       "      <td>Awesome</td>\n",
       "    </tr>\n",
       "  </tbody>\n",
       "</table>\n",
       "<p>22504 rows × 2 columns</p>\n",
       "</div>"
      ],
      "text/plain": [
       "       rating        review\n",
       "13          4          Good\n",
       "69          5     Very good\n",
       "70          5          Good\n",
       "72          4          Nice\n",
       "101         5         Super\n",
       "...       ...           ...\n",
       "46490       4          Good\n",
       "46492       4          nice\n",
       "46493       4  Good quality\n",
       "46494       4         Great\n",
       "46496       4       Awesome\n",
       "\n",
       "[22504 rows x 2 columns]"
      ]
     },
     "execution_count": 7,
     "metadata": {},
     "output_type": "execute_result"
    }
   ],
   "source": [
    "df[df.duplicated()]"
   ]
  },
  {
   "cell_type": "code",
   "execution_count": 8,
   "metadata": {},
   "outputs": [],
   "source": [
    "df.drop_duplicates(inplace=True)"
   ]
  },
  {
   "cell_type": "code",
   "execution_count": 9,
   "metadata": {},
   "outputs": [
    {
     "data": {
      "text/plain": [
       "1    10665\n",
       "5     7443\n",
       "4     2957\n",
       "3     1786\n",
       "2     1143\n",
       "Name: rating, dtype: int64"
      ]
     },
     "execution_count": 9,
     "metadata": {},
     "output_type": "execute_result"
    }
   ],
   "source": [
    "df.rating.value_counts()"
   ]
  },
  {
   "cell_type": "code",
   "execution_count": 10,
   "metadata": {},
   "outputs": [
    {
     "data": {
      "text/plain": [
       "(23994, 2)"
      ]
     },
     "execution_count": 10,
     "metadata": {},
     "output_type": "execute_result"
    }
   ],
   "source": [
    "df.shape"
   ]
  },
  {
   "cell_type": "code",
   "execution_count": 11,
   "metadata": {},
   "outputs": [],
   "source": [
    "from nltk.corpus import stopwords\n",
    "from nltk.stem import WordNetLemmatizer\n",
    "import re\n"
   ]
  },
  {
   "cell_type": "code",
   "execution_count": 12,
   "metadata": {},
   "outputs": [],
   "source": [
    "lemmatizer = WordNetLemmatizer()\n",
    "stop_words = set(stopwords.words('english'))"
   ]
  },
  {
   "cell_type": "code",
   "execution_count": 13,
   "metadata": {},
   "outputs": [],
   "source": [
    "def preprocess_nltk(text):\n",
    "    review = re.sub('[^a-zA-Z]', ' ', text)\n",
    "    review = review.lower().split()\n",
    "    review = [lemmatizer.lemmatize(word) for word in review if word not in stop_words]\n",
    "    return ' '.join(review)"
   ]
  },
  {
   "cell_type": "code",
   "execution_count": 14,
   "metadata": {},
   "outputs": [],
   "source": [
    "df['preprocessed_text'] = df['review'].apply(preprocess_nltk)"
   ]
  },
  {
   "cell_type": "code",
   "execution_count": 16,
   "metadata": {},
   "outputs": [],
   "source": [
    "df.reset_index(drop=True, inplace=True)"
   ]
  },
  {
   "cell_type": "code",
   "execution_count": 17,
   "metadata": {},
   "outputs": [],
   "source": [
    "X = df['preprocessed_text']\n",
    "y = df['rating']"
   ]
  },
  {
   "cell_type": "code",
   "execution_count": 18,
   "metadata": {},
   "outputs": [
    {
     "data": {
      "text/plain": [
       "('product good delivery service management poor staff behaviour rude', 1)"
      ]
     },
     "execution_count": 18,
     "metadata": {},
     "output_type": "execute_result"
    }
   ],
   "source": [
    "X[20000] , y[20000]"
   ]
  },
  {
   "cell_type": "code",
   "execution_count": 19,
   "metadata": {},
   "outputs": [],
   "source": [
    "from sklearn.model_selection import train_test_split\n",
    "from sklearn.feature_extraction.text import TfidfVectorizer\n",
    "from sklearn.metrics import accuracy_score\n",
    "import joblib\n",
    "import tensorflow.keras as keras\n",
    "import tensorflow as tf"
   ]
  },
  {
   "cell_type": "code",
   "execution_count": 20,
   "metadata": {},
   "outputs": [],
   "source": [
    "# X_train, X_test, y_train, y_test = train_test_split(X, y, test_size=0.10, random_state=0 , stratify=y)"
   ]
  },
  {
   "cell_type": "code",
   "execution_count": 21,
   "metadata": {},
   "outputs": [
    {
     "data": {
      "text/plain": [
       "(1    9598\n",
       " 5    6699\n",
       " 4    2661\n",
       " 3    1607\n",
       " 2    1029\n",
       " Name: rating, dtype: int64,\n",
       " 1    1067\n",
       " 5     744\n",
       " 4     296\n",
       " 3     179\n",
       " 2     114\n",
       " Name: rating, dtype: int64)"
      ]
     },
     "execution_count": 21,
     "metadata": {},
     "output_type": "execute_result"
    }
   ],
   "source": [
    "# y_train.value_counts() , y_test.value_counts()"
   ]
  },
  {
   "cell_type": "code",
   "execution_count": 22,
   "metadata": {},
   "outputs": [],
   "source": [
    "from sklearn.feature_extraction.text import TfidfVectorizer\n",
    "from sklearn.utils.class_weight import compute_class_weight\n",
    "from imblearn.over_sampling import RandomOverSampler\n",
    "from tensorflow.keras.models import Sequential\n",
    "from tensorflow.keras.layers import Dense\n",
    "from tensorflow.keras.optimizers import Adam\n",
    "from collections import Counter\n",
    "import numpy as np"
   ]
  },
  {
   "cell_type": "code",
   "execution_count": 25,
   "metadata": {},
   "outputs": [],
   "source": [
    "# vectorizer = TfidfVectorizer(max_features=5000 , ngram_range=(1,3))  \n",
    "# X_train_vec = vectorizer.fit_transform(X_train).toarray()\n",
    "# X_test_vec = vectorizer.transform(X_test).toarray()"
   ]
  },
  {
   "cell_type": "code",
   "execution_count": 42,
   "metadata": {},
   "outputs": [
    {
     "data": {
      "text/plain": [
       "['tfidf_vectorizer.pkl']"
      ]
     },
     "execution_count": 42,
     "metadata": {},
     "output_type": "execute_result"
    }
   ],
   "source": [
    "# joblib.dump(vectorizer, 'tfidf_vectorizer.pkl')"
   ]
  },
  {
   "cell_type": "code",
   "execution_count": 29,
   "metadata": {},
   "outputs": [
    {
     "name": "stdout",
     "output_type": "stream",
     "text": [
      "Class Weights: {0: 0.44996874348822674, 1: 4.197084548104956, 2: 2.687492221530803, 3: 1.622998872604284, 4: 0.6446932377966861}\n"
     ]
    }
   ],
   "source": [
    "# classes = np.unique(y_train)\n",
    "# class_weights = compute_class_weight('balanced', classes=classes, y=y_train)\n",
    "# class_weights_dict = dict(enumerate(class_weights))\n",
    "\n",
    "# print(\"Class Weights:\", class_weights_dict)"
   ]
  },
  {
   "cell_type": "code",
   "execution_count": 30,
   "metadata": {},
   "outputs": [],
   "source": [
    "from tensorflow.keras.models import Sequential\n",
    "from tensorflow.keras.optimizers import Adam\n",
    "from tensorflow.keras.layers import Dense, Embedding, LSTM, Dropout\n",
    "from tensorflow.keras.preprocessing.sequence import pad_sequences\n",
    "from sklearn.utils.class_weight import compute_class_weight\n",
    "import numpy as np"
   ]
  },
  {
   "cell_type": "code",
   "execution_count": 31,
   "metadata": {},
   "outputs": [],
   "source": [
    "# y_train_zero_indexed = y_train - 1"
   ]
  },
  {
   "cell_type": "markdown",
   "metadata": {},
   "source": [
    "***first***"
   ]
  },
  {
   "cell_type": "markdown",
   "metadata": {},
   "source": [
    "-----------"
   ]
  },
  {
   "cell_type": "code",
   "execution_count": 34,
   "metadata": {},
   "outputs": [],
   "source": [
    "# model = Sequential([\n",
    "#     Dense(3000, input_shape=(5000,), activation=\"relu\"),\n",
    "#     Dense(1000, activation=\"relu\"),\n",
    "#     Dense(50, activation=\"relu\"),\n",
    "#     Dense(5, activation=\"softmax\"),\n",
    "# ])\n",
    "# model.compile(optimizer=Adam(), loss=\"sparse_categorical_crossentropy\", metrics=[\"accuracy\"])"
   ]
  },
  {
   "cell_type": "code",
   "execution_count": 40,
   "metadata": {},
   "outputs": [
    {
     "name": "stdout",
     "output_type": "stream",
     "text": [
      "Epoch 1/20\n",
      "540/540 [==============================] - 43s 79ms/step - loss: 1.2714 - accuracy: 0.5180 - val_loss: 1.0582 - val_accuracy: 0.5791\n",
      "Epoch 2/20\n",
      "540/540 [==============================] - 38s 71ms/step - loss: 0.9952 - accuracy: 0.6008 - val_loss: 1.0687 - val_accuracy: 0.5353\n",
      "Epoch 3/20\n",
      "540/540 [==============================] - 39s 73ms/step - loss: 0.6955 - accuracy: 0.7008 - val_loss: 1.1852 - val_accuracy: 0.5659\n",
      "Epoch 4/20\n",
      "540/540 [==============================] - 40s 73ms/step - loss: 0.4894 - accuracy: 0.7869 - val_loss: 1.4032 - val_accuracy: 0.5925\n",
      "Epoch 5/20\n",
      "540/540 [==============================] - 40s 74ms/step - loss: 0.3730 - accuracy: 0.8337 - val_loss: 1.6460 - val_accuracy: 0.5700\n",
      "Epoch 6/20\n",
      "540/540 [==============================] - 40s 74ms/step - loss: 0.3094 - accuracy: 0.8596 - val_loss: 1.9275 - val_accuracy: 0.6062\n",
      "Epoch 7/20\n",
      "540/540 [==============================] - 40s 74ms/step - loss: 0.2775 - accuracy: 0.8706 - val_loss: 2.1617 - val_accuracy: 0.5990\n",
      "Epoch 8/20\n",
      "540/540 [==============================] - 40s 74ms/step - loss: 0.2635 - accuracy: 0.8748 - val_loss: 1.9737 - val_accuracy: 0.5680\n",
      "Epoch 9/20\n",
      "540/540 [==============================] - 41s 76ms/step - loss: 0.2475 - accuracy: 0.8808 - val_loss: 2.4743 - val_accuracy: 0.5987\n",
      "Epoch 10/20\n",
      "540/540 [==============================] - 40s 74ms/step - loss: 0.2404 - accuracy: 0.8829 - val_loss: 2.4554 - val_accuracy: 0.6020\n",
      "Epoch 11/20\n",
      "540/540 [==============================] - 40s 75ms/step - loss: 0.2385 - accuracy: 0.8819 - val_loss: 2.5700 - val_accuracy: 0.6115\n",
      "Epoch 12/20\n",
      "540/540 [==============================] - 40s 74ms/step - loss: 0.2330 - accuracy: 0.8827 - val_loss: 2.8478 - val_accuracy: 0.5749\n",
      "Epoch 13/20\n",
      "540/540 [==============================] - 40s 74ms/step - loss: 0.2350 - accuracy: 0.8850 - val_loss: 2.7167 - val_accuracy: 0.6020\n",
      "Epoch 14/20\n",
      "540/540 [==============================] - 40s 75ms/step - loss: 0.2279 - accuracy: 0.8861 - val_loss: 2.7766 - val_accuracy: 0.5941\n",
      "Epoch 15/20\n",
      "540/540 [==============================] - 41s 76ms/step - loss: 0.2224 - accuracy: 0.8867 - val_loss: 2.6268 - val_accuracy: 0.5564\n",
      "Epoch 16/20\n",
      "540/540 [==============================] - 41s 75ms/step - loss: 0.2209 - accuracy: 0.8887 - val_loss: 2.8708 - val_accuracy: 0.5846\n",
      "Epoch 17/20\n",
      "540/540 [==============================] - 78s 144ms/step - loss: 0.2237 - accuracy: 0.8869 - val_loss: 2.9921 - val_accuracy: 0.5856\n",
      "Epoch 18/20\n",
      "540/540 [==============================] - 315s 584ms/step - loss: 0.2227 - accuracy: 0.8878 - val_loss: 2.8220 - val_accuracy: 0.5865\n",
      "Epoch 19/20\n",
      "540/540 [==============================] - 140s 259ms/step - loss: 0.2150 - accuracy: 0.8896 - val_loss: 2.8862 - val_accuracy: 0.5737: 1:39 - loss: 0 - ETA: 1:18 - loss: 0.1989 - accuracy: 0.89 - ETA: 1:17 - loss: 0.198 - ETA: 1: - ETA: 53s - loss: 0.2066 - accu - ETA: 1s - loss: 0.2140 - \n",
      "Epoch 20/20\n",
      "540/540 [==============================] - 117s 216ms/step - loss: 0.2163 - accuracy: 0.8879 - val_loss: 3.0056 - val_accuracy: 0.5763 loss: 0.2169 - accuracy: 0.889 - ETA:  - ETA: 21s -\n"
     ]
    }
   ],
   "source": [
    "# import tensorflow as tf\n",
    "# with tf.device('/cpu:0'):\n",
    "#     model.fit(X_train_vec, y_train_zero_indexed, epochs=20, class_weight=class_weights_dict, validation_split=0.2)\n"
   ]
  },
  {
   "cell_type": "code",
   "execution_count": 41,
   "metadata": {},
   "outputs": [],
   "source": [
    "# model.save('keras_model.h5')"
   ]
  },
  {
   "cell_type": "code",
   "execution_count": 43,
   "metadata": {},
   "outputs": [],
   "source": [
    "# X_test_vectorized = vectorizer.transform(X_test).toarray()\n",
    "# predictions = model.predict(X_test_vectorized)"
   ]
  },
  {
   "cell_type": "code",
   "execution_count": 44,
   "metadata": {},
   "outputs": [
    {
     "data": {
      "text/plain": [
       "array([[9.99933124e-01, 5.32114900e-05, 1.27977671e-06, 2.45676439e-08,\n",
       "        1.23695690e-05],\n",
       "       [1.14785228e-03, 8.81825149e-01, 9.31456889e-05, 4.60819481e-03,\n",
       "        1.12325668e-01],\n",
       "       [9.61440965e-04, 9.96374428e-01, 2.77276558e-04, 2.37696851e-03,\n",
       "        9.97218012e-06],\n",
       "       ...,\n",
       "       [1.01834377e-02, 8.68156314e-01, 2.79879551e-02, 8.52344483e-02,\n",
       "        8.43787100e-03],\n",
       "       [9.99897361e-01, 1.02649494e-04, 2.31854869e-10, 3.12822006e-17,\n",
       "        1.12207433e-12],\n",
       "       [5.33549814e-04, 9.99394774e-01, 4.97515430e-05, 2.08719339e-05,\n",
       "        1.08328902e-06]], dtype=float32)"
      ]
     },
     "execution_count": 44,
     "metadata": {},
     "output_type": "execute_result"
    }
   ],
   "source": [
    "# predictions"
   ]
  },
  {
   "cell_type": "code",
   "execution_count": 45,
   "metadata": {},
   "outputs": [
    {
     "name": "stdout",
     "output_type": "stream",
     "text": [
      "[1 2 2 ... 2 1 2]\n"
     ]
    }
   ],
   "source": [
    "# predicted_classes = np.argmax(predictions, axis=1)\n",
    "# predicted_ratings = predicted_classes + 1\n",
    "\n",
    "# print(predicted_ratings)"
   ]
  },
  {
   "cell_type": "code",
   "execution_count": 49,
   "metadata": {},
   "outputs": [
    {
     "data": {
      "text/plain": [
       "array([1, 2, 3, 4, 5], dtype=int64)"
      ]
     },
     "execution_count": 49,
     "metadata": {},
     "output_type": "execute_result"
    }
   ],
   "source": [
    "# np.unique(predicted_ratings)"
   ]
  },
  {
   "cell_type": "code",
   "execution_count": 46,
   "metadata": {},
   "outputs": [
    {
     "name": "stdout",
     "output_type": "stream",
     "text": [
      "Accuracy: 0.5683333333333334\n"
     ]
    }
   ],
   "source": [
    "# from sklearn.metrics import accuracy_score\n",
    "\n",
    "# # Assuming y_test contains the true labels (ratings)\n",
    "# accuracy = accuracy_score(y_test, predicted_ratings)\n",
    "# print(f\"Accuracy: {accuracy}\")\n"
   ]
  },
  {
   "cell_type": "code",
   "execution_count": 47,
   "metadata": {},
   "outputs": [
    {
     "data": {
      "image/png": "[encoded data removed]",
      "text/plain": [
       "<Figure size 640x480 with 2 Axes>"
      ]
     },
     "metadata": {},
     "output_type": "display_data"
    }
   ],
   "source": [
    "# from sklearn.metrics import confusion_matrix\n",
    "# import seaborn as sns\n",
    "# import matplotlib.pyplot as plt\n",
    "\n",
    "# # Generate the confusion matrix\n",
    "# conf_matrix = confusion_matrix(y_test, predicted_ratings)\n",
    "\n",
    "# # Plot the confusion matrix\n",
    "# sns.heatmap(conf_matrix, annot=True, fmt='d', cmap='Blues')\n",
    "# plt.xlabel('Predicted')\n",
    "# plt.ylabel('True')\n",
    "# plt.show()\n"
   ]
  },
  {
   "cell_type": "code",
   "execution_count": 48,
   "metadata": {},
   "outputs": [
    {
     "name": "stdout",
     "output_type": "stream",
     "text": [
      "              precision    recall  f1-score   support\n",
      "\n",
      "           1       0.82      0.71      0.76      1067\n",
      "           2       0.10      0.22      0.14       114\n",
      "           3       0.16      0.15      0.16       179\n",
      "           4       0.26      0.36      0.31       296\n",
      "           5       0.67      0.60      0.63       744\n",
      "\n",
      "    accuracy                           0.57      2400\n",
      "   macro avg       0.40      0.41      0.40      2400\n",
      "weighted avg       0.62      0.57      0.59      2400\n",
      "\n"
     ]
    }
   ],
   "source": [
    "# from sklearn.metrics import classification_report\n",
    "\n",
    "# print(classification_report(y_test, predicted_ratings))\n"
   ]
  },
  {
   "cell_type": "markdown",
   "metadata": {},
   "source": [
    "***second***"
   ]
  },
  {
   "cell_type": "markdown",
   "metadata": {},
   "source": [
    "----"
   ]
  },
  {
   "cell_type": "code",
   "execution_count": 61,
   "metadata": {},
   "outputs": [],
   "source": [
    "# model = Sequential([\n",
    "#     Dense(512, activation='relu', input_shape=(5000,)),\n",
    "#     Dense(256, activation='relu'),\n",
    "#     Dense(128, activation='relu'),\n",
    "#     Dense(5, activation='softmax')  # 5 output classes\n",
    "# ])\n"
   ]
  },
  {
   "cell_type": "code",
   "execution_count": 62,
   "metadata": {},
   "outputs": [],
   "source": [
    "# model.compile(optimizer=Adam(learning_rate=0.0001), loss='sparse_categorical_crossentropy', metrics=['accuracy'])\n"
   ]
  },
  {
   "cell_type": "code",
   "execution_count": 63,
   "metadata": {},
   "outputs": [
    {
     "name": "stdout",
     "output_type": "stream",
     "text": [
      "Epoch 1/20\n",
      "540/540 [==============================] - 7s 12ms/step - loss: 1.4356 - accuracy: 0.5245 - val_loss: 1.1198 - val_accuracy: 0.5397\n",
      "Epoch 2/20\n",
      "540/540 [==============================] - 7s 13ms/step - loss: 1.1219 - accuracy: 0.5770 - val_loss: 0.9968 - val_accuracy: 0.5849\n",
      "Epoch 3/20\n",
      "540/540 [==============================] - 7s 13ms/step - loss: 0.9774 - accuracy: 0.6333 - val_loss: 1.0320 - val_accuracy: 0.5663\n",
      "Epoch 4/20\n",
      "540/540 [==============================] - 7s 13ms/step - loss: 0.8379 - accuracy: 0.6812 - val_loss: 1.0283 - val_accuracy: 0.5765\n",
      "Epoch 5/20\n",
      "540/540 [==============================] - 7s 13ms/step - loss: 0.6997 - accuracy: 0.7231 - val_loss: 1.1095 - val_accuracy: 0.5534\n",
      "Epoch 6/20\n",
      "540/540 [==============================] - 7s 13ms/step - loss: 0.5888 - accuracy: 0.7564 - val_loss: 1.0827 - val_accuracy: 0.5969\n",
      "Epoch 7/20\n",
      "540/540 [==============================] - 7s 13ms/step - loss: 0.5083 - accuracy: 0.7900 - val_loss: 1.2238 - val_accuracy: 0.5538\n",
      "Epoch 8/20\n",
      "540/540 [==============================] - 7s 13ms/step - loss: 0.4435 - accuracy: 0.8119 - val_loss: 1.2691 - val_accuracy: 0.5818\n",
      "Epoch 9/20\n",
      "540/540 [==============================] - 7s 13ms/step - loss: 0.3990 - accuracy: 0.8310 - val_loss: 1.3284 - val_accuracy: 0.5950\n",
      "Epoch 10/20\n",
      "540/540 [==============================] - 8s 14ms/step - loss: 0.3605 - accuracy: 0.8460 - val_loss: 1.4389 - val_accuracy: 0.5733\n",
      "Epoch 11/20\n",
      "540/540 [==============================] - 7s 13ms/step - loss: 0.3372 - accuracy: 0.8549 - val_loss: 1.4950 - val_accuracy: 0.5786\n",
      "Epoch 12/20\n",
      "540/540 [==============================] - 7s 13ms/step - loss: 0.3130 - accuracy: 0.8645 - val_loss: 1.5685 - val_accuracy: 0.5950\n",
      "Epoch 13/20\n",
      "540/540 [==============================] - 7s 13ms/step - loss: 0.3004 - accuracy: 0.8673 - val_loss: 1.6071 - val_accuracy: 0.5939\n",
      "Epoch 14/20\n",
      "540/540 [==============================] - 7s 13ms/step - loss: 0.2878 - accuracy: 0.8755 - val_loss: 1.6723 - val_accuracy: 0.5960\n",
      "Epoch 15/20\n",
      "540/540 [==============================] - 7s 13ms/step - loss: 0.2791 - accuracy: 0.8758 - val_loss: 1.7268 - val_accuracy: 0.5950\n",
      "Epoch 16/20\n",
      "540/540 [==============================] - 7s 13ms/step - loss: 0.2726 - accuracy: 0.8800 - val_loss: 1.7743 - val_accuracy: 0.5862\n",
      "Epoch 17/20\n",
      "540/540 [==============================] - 7s 13ms/step - loss: 0.2679 - accuracy: 0.8819 - val_loss: 1.8375 - val_accuracy: 0.5805\n",
      "Epoch 18/20\n",
      "540/540 [==============================] - 7s 14ms/step - loss: 0.2613 - accuracy: 0.8831 - val_loss: 1.8626 - val_accuracy: 0.5944\n",
      "Epoch 19/20\n",
      "540/540 [==============================] - 7s 14ms/step - loss: 0.2573 - accuracy: 0.8836 - val_loss: 1.8765 - val_accuracy: 0.5839\n",
      "Epoch 20/20\n",
      "540/540 [==============================] - 7s 13ms/step - loss: 0.2554 - accuracy: 0.8852 - val_loss: 1.9189 - val_accuracy: 0.5895\n"
     ]
    }
   ],
   "source": [
    "# with tf.device('/cpu:0'):\n",
    "#     model.fit(X_train_vec, y_train_zero_indexed, epochs=20, class_weight=class_weights_dict, validation_split=0.2)"
   ]
  },
  {
   "cell_type": "code",
   "execution_count": 64,
   "metadata": {},
   "outputs": [
    {
     "name": "stdout",
     "output_type": "stream",
     "text": [
      "Accuracy: 0.5841666666666666\n"
     ]
    }
   ],
   "source": [
    "# predictions = model.predict(X_test_vectorized)\n",
    "# predicted_classes = np.argmax(predictions, axis=1)\n",
    "# predicted_ratings = predicted_classes + 1\n",
    "# accuracy = accuracy_score(y_test, predicted_ratings)\n",
    "# print(f\"Accuracy: {accuracy}\")"
   ]
  },
  {
   "cell_type": "code",
   "execution_count": 65,
   "metadata": {},
   "outputs": [],
   "source": [
    "# model.save('keras_model2.h5')"
   ]
  },
  {
   "cell_type": "markdown",
   "metadata": {},
   "source": [
    "***third***\n"
   ]
  },
  {
   "cell_type": "markdown",
   "metadata": {},
   "source": [
    "---------------"
   ]
  },
  {
   "cell_type": "code",
   "execution_count": 36,
   "metadata": {},
   "outputs": [],
   "source": [
    "# from tensorflow.keras.layers import LSTM, Embedding\n",
    "\n",
    "# model = Sequential([\n",
    "#     Embedding(input_dim=5000, output_dim=128, input_length=5000),  # Embedding layer\n",
    "#     LSTM(64),\n",
    "#     Dense(5, activation='softmax')  # 5 output classes\n",
    "# ])\n",
    "# model.compile(optimizer='adam', loss='sparse_categorical_crossentropy', metrics=['accuracy'])\n"
   ]
  },
  {
   "cell_type": "code",
   "execution_count": null,
   "metadata": {},
   "outputs": [],
   "source": [
    "# with tf.device('/cpu:0'):\n",
    "#     model.fit(X_train_vec, y_train_zero_indexed, epochs=10, class_weight=class_weights_dict, validation_split=0.2)"
   ]
  },
  {
   "cell_type": "markdown",
   "metadata": {},
   "source": [
    "***fourth***"
   ]
  },
  {
   "cell_type": "markdown",
   "metadata": {},
   "source": [
    "---------------------------------------"
   ]
  },
  {
   "cell_type": "code",
   "execution_count": 23,
   "metadata": {},
   "outputs": [],
   "source": [
    "# vectorizer = TfidfVectorizer(max_features=6000 , ngram_range=(1,3))  \n",
    "# X_train_vec = vectorizer.fit_transform(X_train).toarray()\n",
    "# X_test_vec = vectorizer.transform(X_test).toarray()"
   ]
  },
  {
   "cell_type": "code",
   "execution_count": 33,
   "metadata": {},
   "outputs": [
    {
     "data": {
      "text/plain": [
       "['tfidf_vectorizer1.pkl']"
      ]
     },
     "execution_count": 33,
     "metadata": {},
     "output_type": "execute_result"
    }
   ],
   "source": [
    "# joblib.dump(vectorizer, 'tfidf_vectorizer1.pkl')"
   ]
  },
  {
   "cell_type": "code",
   "execution_count": 24,
   "metadata": {},
   "outputs": [],
   "source": [
    "# model = Sequential([\n",
    "#     Dense(3000, activation='relu', input_shape=(6000,)),\n",
    "#     Dense(1500, activation='relu'),\n",
    "#     Dense(625, activation='relu'),\n",
    "#     Dense(5, activation='softmax')  # 5 output classes\n",
    "# ])\n"
   ]
  },
  {
   "cell_type": "code",
   "execution_count": 25,
   "metadata": {},
   "outputs": [],
   "source": [
    "# model.compile(optimizer=Adam(learning_rate=0.0001), loss='sparse_categorical_crossentropy', metrics=['accuracy'])"
   ]
  },
  {
   "cell_type": "code",
   "execution_count": 32,
   "metadata": {},
   "outputs": [
    {
     "name": "stdout",
     "output_type": "stream",
     "text": [
      "Epoch 1/15\n",
      "540/540 [==============================] - 50s 93ms/step - loss: 1.3050 - accuracy: 0.5194 - val_loss: 1.0875 - val_accuracy: 0.5402\n",
      "Epoch 2/15\n",
      "540/540 [==============================] - 51s 94ms/step - loss: 0.9898 - accuracy: 0.6140 - val_loss: 1.0552 - val_accuracy: 0.5233\n",
      "Epoch 3/15\n",
      "540/540 [==============================] - 50s 93ms/step - loss: 0.6973 - accuracy: 0.7197 - val_loss: 1.1214 - val_accuracy: 0.5423\n",
      "Epoch 4/15\n",
      "540/540 [==============================] - 50s 93ms/step - loss: 0.4718 - accuracy: 0.8046 - val_loss: 1.2007 - val_accuracy: 0.6048\n",
      "Epoch 5/15\n",
      "540/540 [==============================] - 51s 94ms/step - loss: 0.3680 - accuracy: 0.8413 - val_loss: 1.3215 - val_accuracy: 0.6092\n",
      "Epoch 6/15\n",
      "540/540 [==============================] - 50s 93ms/step - loss: 0.3144 - accuracy: 0.8644 - val_loss: 1.4755 - val_accuracy: 0.5960\n",
      "Epoch 7/15\n",
      "540/540 [==============================] - 52s 96ms/step - loss: 0.2892 - accuracy: 0.8704 - val_loss: 1.5508 - val_accuracy: 0.6157\n",
      "Epoch 8/15\n",
      "540/540 [==============================] - 300s 556ms/step - loss: 0.2699 - accuracy: 0.8788 - val_loss: 1.6123 - val_accuracy: 0.5837\n",
      "Epoch 9/15\n",
      "540/540 [==============================] - 263s 488ms/step - loss: 0.2589 - accuracy: 0.8798 - val_loss: 1.7771 - val_accuracy: 0.6018\n",
      "Epoch 10/15\n",
      "540/540 [==============================] - 179s 331ms/step - loss: 0.2482 - accuracy: 0.8845 - val_loss: 1.7755 - val_accuracy: 0.5874\n",
      "Epoch 11/15\n",
      "540/540 [==============================] - 181s 334ms/step - loss: 0.2409 - accuracy: 0.8837 - val_loss: 1.8093 - val_accuracy: 0.5918\n",
      "Epoch 12/15\n",
      "540/540 [==============================] - 153s 282ms/step - loss: 0.2340 - accuracy: 0.8872 - val_loss: 1.9763 - val_accuracy: 0.5879\n",
      "Epoch 13/15\n",
      "540/540 [==============================] - 151s 280ms/step - loss: 0.2295 - accuracy: 0.8875 - val_loss: 2.0209 - val_accuracy: 0.6064\n",
      "Epoch 14/15\n",
      "540/540 [==============================] - 163s 302ms/step - loss: 0.2241 - accuracy: 0.8882 - val_loss: 2.1506 - val_accuracy: 0.6113\n",
      "Epoch 15/15\n",
      "540/540 [==============================] - 151s 279ms/step - loss: 0.2210 - accuracy: 0.8878 - val_loss: 2.2293 - val_accuracy: 0.5893\n"
     ]
    }
   ],
   "source": [
    "# with tf.device('/cpu:0'):\n",
    "#     model.fit(X_train_vec, y_train_zero_indexed, epochs=15, class_weight=class_weights_dict, validation_split=0.2)"
   ]
  },
  {
   "cell_type": "code",
   "execution_count": 34,
   "metadata": {},
   "outputs": [],
   "source": [
    "# model.save('keras_model1.h5')"
   ]
  },
  {
   "cell_type": "code",
   "execution_count": 35,
   "metadata": {},
   "outputs": [
    {
     "name": "stdout",
     "output_type": "stream",
     "text": [
      "Accuracy: 0.5766666666666667\n"
     ]
    }
   ],
   "source": [
    "# predictions = model.predict(X_test_vec)\n",
    "# predicted_classes = np.argmax(predictions, axis=1)\n",
    "# predicted_ratings = predicted_classes + 1\n",
    "# accuracy = accuracy_score(y_test, predicted_ratings)\n",
    "# print(f\"Accuracy: {accuracy}\")"
   ]
  },
  {
   "cell_type": "markdown",
   "metadata": {},
   "source": [
    "***Fifth***"
   ]
  },
  {
   "cell_type": "markdown",
   "metadata": {},
   "source": [
    "-----------------------------------------------------------------------------------------------"
   ]
  },
  {
   "cell_type": "code",
   "execution_count": 36,
   "metadata": {},
   "outputs": [],
   "source": [
    "from imblearn.over_sampling import SMOTE"
   ]
  },
  {
   "cell_type": "code",
   "execution_count": 37,
   "metadata": {},
   "outputs": [],
   "source": [
    "df['sentiment'] = df['rating'].apply(lambda x: 0 if x in (1,2) else (1 if x==3 else 2))"
   ]
  },
  {
   "cell_type": "code",
   "execution_count": 38,
   "metadata": {},
   "outputs": [],
   "source": [
    "X = df['preprocessed_text']\n",
    "y = df['sentiment']"
   ]
  },
  {
   "cell_type": "code",
   "execution_count": 44,
   "metadata": {},
   "outputs": [
    {
     "data": {
      "text/plain": [
       "0    11808\n",
       "2    10400\n",
       "1     1786\n",
       "Name: sentiment, dtype: int64"
      ]
     },
     "execution_count": 44,
     "metadata": {},
     "output_type": "execute_result"
    }
   ],
   "source": [
    "y.value_counts()"
   ]
  },
  {
   "cell_type": "code",
   "execution_count": 39,
   "metadata": {},
   "outputs": [],
   "source": [
    "X_train, X_test, y_train, y_test = train_test_split(X, y, test_size=0.10, random_state=0, stratify=y)"
   ]
  },
  {
   "cell_type": "code",
   "execution_count": 41,
   "metadata": {},
   "outputs": [],
   "source": [
    "vectorizer = TfidfVectorizer(max_features=6000 , ngram_range=(1,3))  \n",
    "X_train_vec = vectorizer.fit_transform(X_train).toarray()\n",
    "X_test_vec = vectorizer.transform(X_test).toarray()"
   ]
  },
  {
   "cell_type": "code",
   "execution_count": 50,
   "metadata": {},
   "outputs": [
    {
     "data": {
      "text/plain": [
       "['tfidf_vectorizer_s.pkl']"
      ]
     },
     "execution_count": 50,
     "metadata": {},
     "output_type": "execute_result"
    }
   ],
   "source": [
    "joblib.dump(vectorizer, 'tfidf_vectorizer_s.pkl')"
   ]
  },
  {
   "cell_type": "code",
   "execution_count": 42,
   "metadata": {},
   "outputs": [],
   "source": [
    "smote = SMOTE(random_state=0)\n",
    "X_train_smote, y_train_smote = smote.fit_resample(X_train_vec, y_train)"
   ]
  },
  {
   "cell_type": "code",
   "execution_count": 43,
   "metadata": {},
   "outputs": [
    {
     "name": "stdout",
     "output_type": "stream",
     "text": [
      "Class distribution after SMOTE: [10627 10627 10627]\n"
     ]
    }
   ],
   "source": [
    "print(\"Class distribution after SMOTE:\", np.bincount(y_train_smote))"
   ]
  },
  {
   "cell_type": "code",
   "execution_count": 45,
   "metadata": {},
   "outputs": [],
   "source": [
    "model = Sequential([\n",
    "    Dense(3000, activation='relu', input_shape=(6000,)),\n",
    "    Dense(1500, activation='relu'),\n",
    "    Dense(625, activation='relu'),\n",
    "    Dense(5, activation='softmax')  # 5 output classes\n",
    "])"
   ]
  },
  {
   "cell_type": "code",
   "execution_count": 46,
   "metadata": {},
   "outputs": [],
   "source": [
    "model.compile(optimizer=Adam(learning_rate=0.0001), loss='sparse_categorical_crossentropy', metrics=['accuracy'])"
   ]
  },
  {
   "cell_type": "code",
   "execution_count": 48,
   "metadata": {},
   "outputs": [
    {
     "name": "stdout",
     "output_type": "stream",
     "text": [
      "Epoch 1/15\n",
      "997/997 [==============================] - 90s 90ms/step - loss: 0.3691 - accuracy: 0.8638 - val_loss: 0.5738 - val_accuracy: 0.8050\n",
      "Epoch 2/15\n",
      "997/997 [==============================] - 90s 90ms/step - loss: 0.2469 - accuracy: 0.9094 - val_loss: 0.6437 - val_accuracy: 0.8313\n",
      "Epoch 3/15\n",
      "997/997 [==============================] - 92s 92ms/step - loss: 0.1967 - accuracy: 0.9256 - val_loss: 0.7454 - val_accuracy: 0.8046\n",
      "Epoch 4/15\n",
      "997/997 [==============================] - 672s 674ms/step - loss: 0.1693 - accuracy: 0.9329 - val_loss: 0.7802 - val_accuracy: 0.8250\n",
      "Epoch 5/15\n",
      "997/997 [==============================] - 380s 381ms/step - loss: 0.1540 - accuracy: 0.9363 - val_loss: 0.8138 - val_accuracy: 0.7996\n",
      "Epoch 6/15\n",
      "997/997 [==============================] - 326s 327ms/step - loss: 0.1418 - accuracy: 0.9394 - val_loss: 0.8602 - val_accuracy: 0.7933\n",
      "Epoch 7/15\n",
      "997/997 [==============================] - 378s 379ms/step - loss: 0.1337 - accuracy: 0.9427 - val_loss: 0.9732 - val_accuracy: 0.8046\n",
      "Epoch 8/15\n",
      "997/997 [==============================] - 280s 280ms/step - loss: 0.1276 - accuracy: 0.9436 - val_loss: 0.9988 - val_accuracy: 0.8154\n",
      "Epoch 9/15\n",
      "997/997 [==============================] - 328s 329ms/step - loss: 0.1233 - accuracy: 0.9439 - val_loss: 1.0924 - val_accuracy: 0.8054\n",
      "Epoch 10/15\n",
      "997/997 [==============================] - 256s 257ms/step - loss: 0.1189 - accuracy: 0.9461 - val_loss: 1.1200 - val_accuracy: 0.8004\n",
      "Epoch 11/15\n",
      "997/997 [==============================] - 256s 257ms/step - loss: 0.1167 - accuracy: 0.9452 - val_loss: 1.2697 - val_accuracy: 0.8171\n",
      "Epoch 12/15\n",
      "997/997 [==============================] - 256s 257ms/step - loss: 0.1132 - accuracy: 0.9471 - val_loss: 1.3860 - val_accuracy: 0.7808\n",
      "Epoch 13/15\n",
      "997/997 [==============================] - 256s 257ms/step - loss: 0.1127 - accuracy: 0.9471 - val_loss: 1.3442 - val_accuracy: 0.8092\n",
      "Epoch 14/15\n",
      "997/997 [==============================] - 262s 263ms/step - loss: 0.1099 - accuracy: 0.9485 - val_loss: 1.5136 - val_accuracy: 0.8058\n",
      "Epoch 15/15\n",
      "997/997 [==============================] - 265s 266ms/step - loss: 0.1090 - accuracy: 0.9489 - val_loss: 1.5554 - val_accuracy: 0.8108\n"
     ]
    }
   ],
   "source": [
    "with tf.device('/cpu:0'):\n",
    "    model.fit(X_train_smote, y_train_smote, epochs=15,  validation_data=(X_test_vec, y_test))"
   ]
  },
  {
   "cell_type": "code",
   "execution_count": 49,
   "metadata": {},
   "outputs": [],
   "source": [
    "model.save('keras_model_s.h5')"
   ]
  },
  {
   "cell_type": "code",
   "execution_count": 52,
   "metadata": {},
   "outputs": [
    {
     "name": "stdout",
     "output_type": "stream",
     "text": [
      "Accuracy: 0.8108333333333333\n"
     ]
    }
   ],
   "source": [
    "predictions = model.predict(X_test_vec)\n",
    "predicted_classes = np.argmax(predictions, axis=1)\n",
    "predicted_ratings = predicted_classes \n",
    "accuracy = accuracy_score(y_test, predicted_ratings)\n",
    "print(f\"Accuracy: {accuracy}\")"
   ]
  },
  {
   "cell_type": "code",
   "execution_count": 53,
   "metadata": {},
   "outputs": [
    {
     "data": {
      "image/png": "[encoded data removed]",
      "text/plain": [
       "<Figure size 640x480 with 2 Axes>"
      ]
     },
     "metadata": {},
     "output_type": "display_data"
    }
   ],
   "source": [
    "from sklearn.metrics import confusion_matrix\n",
    "import seaborn as sns\n",
    "import matplotlib.pyplot as plt\n",
    "\n",
    "# Generate the confusion matrix\n",
    "conf_matrix = confusion_matrix(y_test, predicted_ratings)\n",
    "\n",
    "# Plot the confusion matrix\n",
    "sns.heatmap(conf_matrix, annot=True, fmt='d', cmap='Blues')\n",
    "plt.xlabel('Predicted')\n",
    "plt.ylabel('True')\n",
    "plt.show()"
   ]
  },
  {
   "cell_type": "code",
   "execution_count": 55,
   "metadata": {},
   "outputs": [
    {
     "name": "stdout",
     "output_type": "stream",
     "text": [
      "              precision    recall  f1-score   support\n",
      "\n",
      "           0       0.87      0.86      0.87      1181\n",
      "           1       0.20      0.15      0.17       179\n",
      "           2       0.83      0.87      0.85      1040\n",
      "\n",
      "    accuracy                           0.81      2400\n",
      "   macro avg       0.63      0.63      0.63      2400\n",
      "weighted avg       0.80      0.81      0.81      2400\n",
      "\n"
     ]
    }
   ],
   "source": [
    "from sklearn.metrics import classification_report\n",
    "print(classification_report(y_test, predicted_ratings))"
   ]
  },
  {
   "cell_type": "code",
   "execution_count": null,
   "metadata": {},
   "outputs": [],
   "source": []
  },
  {
   "cell_type": "code",
   "execution_count": null,
   "metadata": {},
   "outputs": [],
   "source": []
  },
  {
   "cell_type": "code",
   "execution_count": 65,
   "metadata": {},
   "outputs": [
    {
     "data": {
      "text/plain": [
       "1483"
      ]
     },
     "execution_count": 65,
     "metadata": {},
     "output_type": "execute_result"
    }
   ],
   "source": [
    "import gc\n",
    "gc.collect()"
   ]
  },
  {
   "cell_type": "code",
   "execution_count": 35,
   "metadata": {},
   "outputs": [],
   "source": [
    "from tensorflow.keras import backend as K\n",
    "K.clear_session()\n"
   ]
  },
  {
   "cell_type": "code",
   "execution_count": null,
   "metadata": {},
   "outputs": [],
   "source": []
  }
 ],
 "metadata": {
  "kernelspec": {
   "display_name": "Python 3",
   "language": "python",
   "name": "python3"
  },
  "language_info": {
   "codemirror_mode": {
    "name": "ipython",
    "version": 3
   },
   "file_extension": ".py",
   "mimetype": "text/x-python",
   "name": "python",
   "nbconvert_exporter": "python",
   "pygments_lexer": "ipython3",
   "version": "3.8.0"
  }
 },
 "nbformat": 4,
 "nbformat_minor": 2
}
